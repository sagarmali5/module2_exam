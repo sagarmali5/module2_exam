{
 "cells": [
  {
   "cell_type": "markdown",
   "id": "745ace30",
   "metadata": {},
   "source": [
    "Question 1 - Convert given hrs & mins in second"
   ]
  },
  {
   "cell_type": "code",
   "execution_count": 3,
   "id": "e1936fcb",
   "metadata": {},
   "outputs": [
    {
     "name": "stdout",
     "output_type": "stream",
     "text": [
      "Enter a hours5\n",
      "Enter a minutes45\n",
      "total seconds of  5  and  45  is  20700\n"
     ]
    }
   ],
   "source": [
    "hr = int(input(\"Enter a hours\"))\n",
    "minutes = int(input(\"Enter a minutes\"))\n",
    "total=0\n",
    "total = hr*60*60+minutes*60\n",
    "print(\"total seconds of \", hr,\" and \", minutes, \" is \", total)"
   ]
  },
  {
   "cell_type": "markdown",
   "id": "93540b68",
   "metadata": {},
   "source": [
    "Question 2 - Write code to find the average of ‘n’ numbers entered by the user to function avg ( )."
   ]
  },
  {
   "cell_type": "code",
   "execution_count": 69,
   "id": "b9babbd3",
   "metadata": {},
   "outputs": [],
   "source": [
    "def avg(*n):\n",
    "    sum=0\n",
    "    for t in n:\n",
    "        sum =sum +t\n",
    "    avg = sum +t\n",
    "    avg=sum /len(n)\n",
    "    \n",
    "    return avg\n",
    "    \n",
    "    "
   ]
  },
  {
   "cell_type": "code",
   "execution_count": 70,
   "id": "df5cb1be",
   "metadata": {},
   "outputs": [
    {
     "data": {
      "text/plain": [
       "0.0"
      ]
     },
     "execution_count": 70,
     "metadata": {},
     "output_type": "execute_result"
    }
   ],
   "source": [
    "avg(5,6,7)"
   ]
  },
  {
   "cell_type": "code",
   "execution_count": null,
   "id": "8850190b",
   "metadata": {},
   "outputs": [],
   "source": [
    "Question 3 - pattern"
   ]
  },
  {
   "cell_type": "code",
   "execution_count": 10,
   "id": "bfc62401",
   "metadata": {},
   "outputs": [
    {
     "name": "stdout",
     "output_type": "stream",
     "text": [
      "1 \n",
      "0 1 \n",
      "0 1 0 \n",
      "0 0 1 0 \n",
      "1 0 1 0 1 \n"
     ]
    }
   ],
   "source": [
    "n= 5\n",
    "for i in range(1,n+1):\n",
    "    for j in range(1, i+1):\n",
    "        if i==1 or (i==2 and j==2) or (i==3 and j==2) or (i == 4 and j==3) or (i ==5 and j==1) or(i ==5 and j==3) or (i ==5 and j==5):\n",
    "            print(1, end=\" \")\n",
    "        else:\n",
    "            print(0, end=\" \")\n",
    "    print()"
   ]
  },
  {
   "cell_type": "markdown",
   "id": "5acc6137",
   "metadata": {},
   "source": [
    "Question 4 -Write a code to accept a number & print in words."
   ]
  },
  {
   "cell_type": "code",
   "execution_count": 58,
   "id": "f4205864",
   "metadata": {},
   "outputs": [
    {
     "name": "stdout",
     "output_type": "stream",
     "text": [
      "enter a no6\n",
      "Wrong input\n"
     ]
    }
   ],
   "source": [
    "n=int(input(\"enter a no\"))\n",
    "if n ==1:\n",
    "    print(\"one\")\n",
    "elif n == 2:\n",
    "    print(\"Two\")\n",
    "elif n == 3:\n",
    "    print(\"Three\")\n",
    "else:\n",
    "    print(\"Wrong input\")"
   ]
  },
  {
   "cell_type": "markdown",
   "id": "7cc3f2ea",
   "metadata": {},
   "source": [
    "Question 5 - creat class"
   ]
  },
  {
   "cell_type": "code",
   "execution_count": 11,
   "id": "7adbb353",
   "metadata": {},
   "outputs": [],
   "source": [
    "class Human:\n",
    "    def __init__(self, name, last_name):\n",
    "        self.name=name\n",
    "        self.last_name=last_name\n",
    "    \n",
    "    def info(self):\n",
    "        print(f'my name is {self.name} {self.last_name}')\n",
    "    \n",
    "    def greet(self):\n",
    "        print(f'Hello {self.name} {self.last_name}')\n",
    "        "
   ]
  },
  {
   "cell_type": "code",
   "execution_count": 12,
   "id": "1cf34316",
   "metadata": {},
   "outputs": [],
   "source": [
    "h1=Human(\"sagar\", \"mali\")"
   ]
  },
  {
   "cell_type": "code",
   "execution_count": 13,
   "id": "4c90d147",
   "metadata": {},
   "outputs": [
    {
     "name": "stdout",
     "output_type": "stream",
     "text": [
      "my name is sagar mali\n"
     ]
    }
   ],
   "source": [
    "h1.info()"
   ]
  },
  {
   "cell_type": "code",
   "execution_count": 14,
   "id": "d072bc8f",
   "metadata": {},
   "outputs": [
    {
     "name": "stdout",
     "output_type": "stream",
     "text": [
      "Hello sagar mali\n"
     ]
    }
   ],
   "source": [
    "h1.greet()"
   ]
  },
  {
   "cell_type": "code",
   "execution_count": null,
   "id": "3426ba60",
   "metadata": {},
   "outputs": [],
   "source": [
    "Question 6  -"
   ]
  },
  {
   "cell_type": "markdown",
   "id": "fd477788",
   "metadata": {},
   "source": [
    "Question 7 -Convert Paise in Rupees & Paises"
   ]
  },
  {
   "cell_type": "code",
   "execution_count": 17,
   "id": "bd6bbc7b",
   "metadata": {},
   "outputs": [
    {
     "name": "stdout",
     "output_type": "stream",
     "text": [
      "Enter a paise560\n",
      "560  paise is  5.6 rupees\n"
     ]
    }
   ],
   "source": [
    "p=int(input(\"Enter a paise\"))\n",
    "rs= 0\n",
    "rs=p/100\n",
    "print(p,\" paise is \", rs, \"rupees\")"
   ]
  },
  {
   "cell_type": "markdown",
   "id": "d2c4e070",
   "metadata": {},
   "source": [
    "Question 9 - Accept String & print only alternate characters on a string."
   ]
  },
  {
   "cell_type": "code",
   "execution_count": 50,
   "id": "a1272119",
   "metadata": {},
   "outputs": [
    {
     "name": "stdout",
     "output_type": "stream",
     "text": [
      "Enter a stringsagar\n",
      "sagar"
     ]
    }
   ],
   "source": [
    "n = input(\"Enter a string\")\n",
    "for i in n:\n",
    "    print(i,end=\"\")"
   ]
  },
  {
   "cell_type": "markdown",
   "id": "41237240",
   "metadata": {},
   "source": [
    "Question 10 - Create menu driven code for "
   ]
  },
  {
   "cell_type": "code",
   "execution_count": 59,
   "id": "b3fa7eb9",
   "metadata": {},
   "outputs": [
    {
     "name": "stdout",
     "output_type": "stream",
     "text": [
      "Enter a first no5\n",
      "Enter a second no6\n",
      "What you want to perform?add\n",
      "11.0\n"
     ]
    }
   ],
   "source": [
    "n1 = float(input(\"Enter a first no\"))\n",
    "n2 = float(input(\"Enter a second no\"))\n",
    "\n",
    "a= input(\"What you want to perform?\")\n",
    "\n",
    "if a==\"add\":\n",
    "    print(n1+n2)\n",
    "\n",
    "elif a==\"sub\":\n",
    "    print(n1-n2)\n",
    "    \n",
    "elif a==\"mul\":\n",
    "    print(n1*n2)\n",
    "    \n",
    "elif a==\"div\":\n",
    "    print(n1/n2)\n",
    "\n",
    "else:\n",
    "    print(\"Wrong input\")"
   ]
  },
  {
   "cell_type": "code",
   "execution_count": 68,
   "id": "49617725",
   "metadata": {},
   "outputs": [
    {
     "name": "stdout",
     "output_type": "stream",
     "text": [
      "1 \n",
      "3 3 \n",
      "5 5 5 \n",
      "6 6 6 6 \n",
      "7 7 7 7 7 \n"
     ]
    }
   ],
   "source": [
    "n= 5\n",
    "a=1\n",
    "for i in range(1,n+1):\n",
    "    for j in range(1, i+1):\n",
    "        print(a, end=\" \")\n",
    "    if i == 1 or i ==2:\n",
    "        a+=2\n",
    "    else:\n",
    "        a+=1\n",
    "    print()"
   ]
  },
  {
   "cell_type": "code",
   "execution_count": null,
   "id": "45acbd89",
   "metadata": {},
   "outputs": [],
   "source": []
  }
 ],
 "metadata": {
  "kernelspec": {
   "display_name": "Python 3 (ipykernel)",
   "language": "python",
   "name": "python3"
  },
  "language_info": {
   "codemirror_mode": {
    "name": "ipython",
    "version": 3
   },
   "file_extension": ".py",
   "mimetype": "text/x-python",
   "name": "python",
   "nbconvert_exporter": "python",
   "pygments_lexer": "ipython3",
   "version": "3.9.7"
  }
 },
 "nbformat": 4,
 "nbformat_minor": 5
}
